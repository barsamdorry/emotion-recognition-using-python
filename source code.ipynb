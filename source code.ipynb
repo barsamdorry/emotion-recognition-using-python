{
 "cells": [
  {
   "cell_type": "code",
   "execution_count": 108,
   "metadata": {},
   "outputs": [],
   "source": [
    "import pandas as pd\n",
    "import numpy as np\n",
    "import tensorflow as tf\n",
    "import neattext.functions as nfx\n",
    "from sklearn.model_selection import train_test_split\n",
    "from sklearn.feature_extraction.text import CountVectorizer\n",
    "from sklearn.preprocessing import LabelEncoder\n",
    "from tensorflow.keras.models import Sequential\n",
    "from tensorflow.keras.layers import Dense\n",
    "from sklearn.metrics import mean_squared_error\n",
    "from tensorflow.keras.preprocessing.text import Tokenizer\n",
    "from tensorflow.keras.preprocessing.sequence import pad_sequences"
   ]
  },
  {
   "cell_type": "code",
   "execution_count": 109,
   "metadata": {},
   "outputs": [],
   "source": [
    "data=pd.read_csv('emotion_dataset_raw.csv')"
   ]
  },
  {
   "cell_type": "code",
   "execution_count": 110,
   "metadata": {},
   "outputs": [],
   "source": [
    "data['Clean Text']= data['Text'].apply(nfx.remove_userhandles)\n",
    "data['Clean Text']= data['Clean Text'].apply(nfx.remove_stopwords)\n"
   ]
  },
  {
   "cell_type": "code",
   "execution_count": 111,
   "metadata": {},
   "outputs": [],
   "source": [
    "\n",
    "X_features = data['Clean Text']\n",
    "ylabel = data['Emotion']"
   ]
  },
  {
   "cell_type": "code",
   "execution_count": 112,
   "metadata": {},
   "outputs": [],
   "source": [
    "\n",
    "# Initialize the tokenizer\n",
    "tokenizer = Tokenizer(num_words=10000)\n",
    "tokenizer.fit_on_texts(X_features)\n",
    "\n",
    "# Convert text to sequences\n",
    "X_sequences = tokenizer.texts_to_sequences(X_features)\n",
    "\n",
    "# Pad sequences to ensure they have the same length\n",
    "X_padded = pad_sequences(X_sequences, padding='post')\n",
    "x_train,x_test,y_train,y_test = train_test_split (X_padded,ylabel,test_size=0.2,random_state=42)\n",
    "# Encode target labels with value between 0 and n_classes-1.\n",
    "label_encoder = LabelEncoder()\n",
    "y_train_encoded = label_encoder.fit_transform(y_train)\n",
    "y_test_encoded = label_encoder.transform(y_test)\n"
   ]
  },
  {
   "cell_type": "code",
   "execution_count": 113,
   "metadata": {},
   "outputs": [],
   "source": [
    "model = Sequential([\n",
    "    \n",
    "    Dense(50,activation= 'relu'),\n",
    "    Dense(25,activation='relu'),\n",
    "    Dense(15,activation='relu'),\n",
    "    Dense(1,activation='linear')\n",
    "    \n",
    "],\n",
    "  name= 'model'\n",
    "  )\n"
   ]
  },
  {
   "cell_type": "code",
   "execution_count": 118,
   "metadata": {},
   "outputs": [
    {
     "name": "stdout",
     "output_type": "stream",
     "text": [
      "\u001b[1m218/218\u001b[0m \u001b[32m━━━━━━━━━━━━━━━━━━━━\u001b[0m\u001b[37m\u001b[0m \u001b[1m0s\u001b[0m 2ms/step\n"
     ]
    },
    {
     "data": {
      "text/plain": [
       "3.882258843075598"
      ]
     },
     "execution_count": 118,
     "metadata": {},
     "output_type": "execute_result"
    }
   ],
   "source": [
    "\n",
    "model.compile(loss='mse',\n",
    "              optimizer='adam')\n",
    "\n",
    "model.fit(x_train, y_train_encoded, epochs=20, verbose=0)\n",
    "mean_squared_error(y_test_encoded, model.predict(x_test))\n"
   ]
  },
  {
   "cell_type": "code",
   "execution_count": 115,
   "metadata": {},
   "outputs": [
    {
     "name": "stdout",
     "output_type": "stream",
     "text": [
      "\u001b[1m1/1\u001b[0m \u001b[32m━━━━━━━━━━━━━━━━━━━━\u001b[0m\u001b[37m\u001b[0m \u001b[1m0s\u001b[0m 65ms/step\n",
      "['neutral']\n",
      "coming home tmrw dont baby till sunday night                                                                      \n"
     ]
    },
    {
     "name": "stderr",
     "output_type": "stream",
     "text": [
      "c:\\Users\\a2\\AppData\\Local\\Programs\\Python\\Python312\\Lib\\site-packages\\sklearn\\preprocessing\\_label.py:153: DataConversionWarning: A column-vector y was passed when a 1d array was expected. Please change the shape of y to (n_samples, ), for example using ravel().\n",
      "  y = column_or_1d(y, warn=True)\n"
     ]
    }
   ],
   "source": [
    "import numpy as np\n",
    "\n",
    "# Reshape the input to match the expected shape\n",
    "input_data = np.expand_dims(x_test[43], axis=0)\n",
    "prediction = model.predict(input_data)\n",
    "\n",
    "# Round the prediction to the nearest integer\n",
    "predicted_label = np.round(prediction).astype(int)\n",
    "\n",
    "# Ensure the predicted label is within the range of the labels\n",
    "predicted_label = np.clip(predicted_label, 0, len(label_encoder.classes_) - 1)\n",
    "\n",
    "# Inverse transform to get the original label\n",
    "original_label = label_encoder.inverse_transform(predicted_label)\n",
    "\n",
    "# Create a reverse mapping from indices to words\n",
    "reverse_word_index = {value: key for key, value in tokenizer.word_index.items()}\n",
    "\n",
    "# Convert the sequence back to text\n",
    "original_text = ' '.join([reverse_word_index.get(i, '') for i in x_test[43]])\n",
    "\n",
    "print(original_label)\n",
    "print(original_text)"
   ]
  },
  {
   "cell_type": "code",
   "execution_count": null,
   "metadata": {},
   "outputs": [],
   "source": []
  }
 ],
 "metadata": {
  "kernelspec": {
   "display_name": "Python 3",
   "language": "python",
   "name": "python3"
  },
  "language_info": {
   "codemirror_mode": {
    "name": "ipython",
    "version": 3
   },
   "file_extension": ".py",
   "mimetype": "text/x-python",
   "name": "python",
   "nbconvert_exporter": "python",
   "pygments_lexer": "ipython3",
   "version": "3.12.3"
  }
 },
 "nbformat": 4,
 "nbformat_minor": 2
}
